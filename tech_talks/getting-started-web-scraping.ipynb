{
 "cells": [
  {
   "cell_type": "markdown",
   "metadata": {
    "slideshow": {
     "slide_type": "slide"
    }
   },
   "source": [
    "## 初學網路爬蟲的方式與建議\n",
    "\n",
    "郭耀仁 | tony@kyosei.ai"
   ]
  },
  {
   "cell_type": "markdown",
   "metadata": {
    "slideshow": {
     "slide_type": "subslide"
    }
   },
   "source": [
    "## 大綱\n",
    "\n",
    "- 關於我\n",
    "- 網路爬蟲學習架構\n",
    "- 一個 End-to-end 簡單範例\n",
    "- 延伸閱讀"
   ]
  },
  {
   "cell_type": "markdown",
   "metadata": {
    "slideshow": {
     "slide_type": "slide"
    }
   },
   "source": [
    "## 關於我"
   ]
  },
  {
   "cell_type": "markdown",
   "metadata": {
    "slideshow": {
     "slide_type": "subslide"
    }
   },
   "source": [
    "## 資料科學講師\n",
    "\n",
    "- 台大資工系統訓練班資深講師（授課時數 2,000+ 小時）\n",
    "- 資策會資料工程師養成班（Python、R）\n",
    "- 中華電信學院（Python 資料科學、Python 機器學習）\n",
    "- 華南銀行 Python 資料科學講師\n",
    "- 玉山銀行 Python 資料科學講師\n",
    "- 2017 資料科學年會講者 http://datasci.tw/tony/"
   ]
  },
  {
   "cell_type": "markdown",
   "metadata": {
    "slideshow": {
     "slide_type": "subslide"
    }
   },
   "source": [
    "## 喜歡撰寫資料科學相關文章\n",
    "\n",
    "- 2.3k+ Likes at https://www.facebook.com/datainpoint/\n",
    "- 1.6k+ Followers at https://medium.com/datainpoint\n",
    "- https://www.datainpoint.com/\n",
    "- 2017 iT 邦幫忙 Big Data 組冠軍 https://ithelp.ithome.com.tw/ironman/articles/1077"
   ]
  },
  {
   "cell_type": "markdown",
   "metadata": {
    "slideshow": {
     "slide_type": "subslide"
    }
   },
   "source": [
    "## 著作\n",
    "\n",
    "- [進擊的資料科學](https://www.datainpoint.com/data-science-in-action/) @碁峰出版社\n",
    "- [輕鬆學習 R 語言, 2nd Edition](https://www.datainpoint.com/r-essentials/) @碁峰出版社"
   ]
  },
  {
   "cell_type": "markdown",
   "metadata": {
    "slideshow": {
     "slide_type": "subslide"
    }
   },
   "source": [
    "## 喜歡長跑\n",
    "\n",
    "- 3k PR: 10:01\n",
    "- 5k PR: 17:35\n",
    "- 10k PR: Around 37:00\n",
    "- 21k PR: Around 79:40\n",
    "- 42.195k PR 02:43:12"
   ]
  },
  {
   "cell_type": "markdown",
   "metadata": {
    "slideshow": {
     "slide_type": "subslide"
    }
   },
   "source": [
    "## 工作經歷\n",
    "\n",
    "- Senior Data Analyst, [Coupang](https://www.coupang.com/)\n",
    "- Senior Analytical Consultant, [SAS](https://www.sas.com/)\n",
    "- Management Associate, [CTBC](https://www.ctbcbank.com/)\n",
    "- Research Intern, [McKinsey & Company](https://www.mckinsey.com/)"
   ]
  },
  {
   "cell_type": "markdown",
   "metadata": {
    "slideshow": {
     "slide_type": "subslide"
    }
   },
   "source": [
    "## 學歷\n",
    "\n",
    "- MBA@台大商研所\n",
    "- BA@台大工商管理系"
   ]
  },
  {
   "cell_type": "markdown",
   "metadata": {
    "slideshow": {
     "slide_type": "slide"
    }
   },
   "source": [
    "## 網路爬蟲學習架構"
   ]
  },
  {
   "cell_type": "markdown",
   "metadata": {
    "slideshow": {
     "slide_type": "subslide"
    }
   },
   "source": [
    "## 架構一覽\n",
    "\n",
    "- 釐清網路爬蟲任務\n",
    "- 學習網路爬蟲之前\n",
    "- 相關的工具與方法\n",
    "- 碰到困難如何解決"
   ]
  },
  {
   "cell_type": "markdown",
   "metadata": {
    "slideshow": {
     "slide_type": "subslide"
    }
   },
   "source": [
    "## 釐清網路爬蟲任務\n",
    "\n",
    "- **請求資料**\n",
    "- **解析資料**\n",
    "- 資料清理\n",
    "- 定期執行\n",
    "- 資料儲存\n",
    "- 資料分享"
   ]
  },
  {
   "cell_type": "markdown",
   "metadata": {
    "slideshow": {
     "slide_type": "subslide"
    }
   },
   "source": [
    "## 學習網路爬蟲之前\n",
    "\n",
    "- Python 程式語言\n",
    "- HTML/CSS 入門\n",
    "- 暸解陣列與 JSON\n",
    "- 暸解基礎的 HTTP 與資料庫\n",
    "- 暸解基礎的命令列"
   ]
  },
  {
   "cell_type": "markdown",
   "metadata": {
    "slideshow": {
     "slide_type": "subslide"
    }
   },
   "source": [
    "## Python 程式語言\n",
    "\n",
    "> 因應任務：請求資料、解析資料、資料清理、資料儲存、資料分享"
   ]
  },
  {
   "cell_type": "markdown",
   "metadata": {
    "slideshow": {
     "slide_type": "subslide"
    }
   },
   "source": [
    "## HTML/CSS 入門\n",
    "\n",
    "> 因應任務：解析資料\n",
    "\n",
    "<https://www.w3schools.com/>"
   ]
  },
  {
   "cell_type": "markdown",
   "metadata": {
    "slideshow": {
     "slide_type": "subslide"
    }
   },
   "source": [
    "## 暸解陣列與 JSON\n",
    "\n",
    "> 因應任務：解析資料\n",
    "\n",
    "<https://www.w3schools.com/>"
   ]
  },
  {
   "cell_type": "markdown",
   "metadata": {
    "slideshow": {
     "slide_type": "subslide"
    }
   },
   "source": [
    "## 暸解基礎的 HTTP 與資料庫\n",
    "\n",
    "> 因應任務：請求資料、資料儲存\n",
    "\n",
    "https://www.w3schools.com/"
   ]
  },
  {
   "cell_type": "markdown",
   "metadata": {
    "slideshow": {
     "slide_type": "subslide"
    }
   },
   "source": [
    "## 暸解基礎的命令列\n",
    "\n",
    "> 因應任務：定期執行、資料分享\n",
    "\n",
    "https://www.learnenough.com/command-line-tutorial/basics"
   ]
  },
  {
   "cell_type": "markdown",
   "metadata": {
    "slideshow": {
     "slide_type": "subslide"
    }
   },
   "source": [
    "## 相關的工具與方法\n",
    "\n",
    "- Chrome 開發者工具、瀏覽器外掛\n",
    "- Python 模組套件"
   ]
  },
  {
   "cell_type": "markdown",
   "metadata": {
    "slideshow": {
     "slide_type": "subslide"
    }
   },
   "source": [
    "## Chrome 開發者工具\n",
    "\n",
    "<https://developers.google.com/web/tools/chrome-devtools/?hl=zh-tw>"
   ]
  },
  {
   "cell_type": "markdown",
   "metadata": {
    "slideshow": {
     "slide_type": "subslide"
    }
   },
   "source": [
    "## Chrome 瀏覽器外掛\n",
    "\n",
    "- [Quick Javascript Switcher](https://chrome.google.com/webstore/detail/quick-javascript-switcher/geddoclleiomckbhadiaipdggiiccfje)：關閉 JavaScript 功能\n",
    "- [JSONView](https://chrome.google.com/webstore/detail/jsonview/chklaanhfefbnpoihckbnefhakgolnmc)：讓 JSON 資料在瀏覽器上呈現得比較漂亮\n",
    "- [SelectorGadget](https://chrome.google.com/webstore/detail/selectorgadget/mhjhnkcfbdhnjickkkdbjoemdmbfginb)：協助 CSS Selector 定位\n",
    "- [XPath Helper](https://chrome.google.com/webstore/detail/xpath-helper/hgimnogjllphhhkhlmebbmlgjoejdpjl)：協助 XPath 定位\n",
    "- [EditThisCookie](https://chrome.google.com/webstore/detail/editthiscookie/fngmhnnpilhplaeedifhccceomclgfbg)：觀察網站的 cookies 參數"
   ]
  },
  {
   "cell_type": "markdown",
   "metadata": {
    "slideshow": {
     "slide_type": "subslide"
    }
   },
   "source": [
    "## Python 模組套件\n",
    "\n",
    "- 請求資料：`requests`、`selenium`, `urllib`\n",
    "- 解析資料：`BeautifulSoup4`、`PyQuery`\n",
    "- 資料清理：`NumPy`、`Pandas`、`re`\n",
    "- 資料儲存：`json`、`sqlite3`、`Pandas`\n",
    "- 資料分享：`flask`、`gunicorn`"
   ]
  },
  {
   "cell_type": "markdown",
   "metadata": {
    "slideshow": {
     "slide_type": "subslide"
    }
   },
   "source": [
    "## 碰到困難如何解決\n",
    "\n",
    "- 80/20 法則\n",
    "- 以英文下關鍵字搜尋\n",
    "- 學習社群\n",
    "- 導師"
   ]
  },
  {
   "cell_type": "markdown",
   "metadata": {
    "slideshow": {
     "slide_type": "subslide"
    }
   },
   "source": [
    "## 花費 80% 的精力學習 20% 的主題，以 Python 程式設計為例\n",
    "\n",
    "- 資料型態留意 `str`\n",
    "- 資料結構留意 `list` 與 `dict`\n",
    "- 技巧留意 `list comprehension` 與 `generator`\n",
    "- Standard Library 留意 `json`, `re` 與 `urllib`\n",
    "- ...etc."
   ]
  },
  {
   "cell_type": "markdown",
   "metadata": {
    "slideshow": {
     "slide_type": "subslide"
    }
   },
   "source": [
    "## 花費 80% 的精力學習 20% 的主題，以 HTML/CSS 入門為例\n",
    "\n",
    "- 留意標記的樹狀結構\n",
    "- 留意 DOM\n",
    "- 留意 id 與 class\n",
    "- 留意 CSS Selector\n",
    "- 留意 XPath\n",
    "- ...etc."
   ]
  },
  {
   "cell_type": "markdown",
   "metadata": {
    "slideshow": {
     "slide_type": "slide"
    }
   },
   "source": [
    "## 一個 End-to-end 簡單範例"
   ]
  },
  {
   "cell_type": "markdown",
   "metadata": {
    "slideshow": {
     "slide_type": "subslide"
    }
   },
   "source": [
    "## 想要讓這本書的選股指標自動化\n",
    "\n",
    "[財務自由的世界：財務分析就是一場投資的戰爭](https://www.books.com.tw/products/0010562279)"
   ]
  },
  {
   "cell_type": "markdown",
   "metadata": {
    "slideshow": {
     "slide_type": "subslide"
    }
   },
   "source": [
    "## 盤點六個任務\n",
    "\n",
    "- 請求資料\n",
    "- 解析資料\n",
    "- 資料清理\n",
    "- 資料儲存\n",
    "- 定期執行\n",
    "- 資料分享"
   ]
  },
  {
   "cell_type": "markdown",
   "metadata": {
    "slideshow": {
     "slide_type": "subslide"
    }
   },
   "source": [
    "## 請求資料\n",
    "\n",
    "- <https://tw.stock.yahoo.com/d/i/rank.php?t=pri&e=tse&n=100>\n",
    "- <https://tw.stock.yahoo.com/d/i/rank.php?t=pri&e=otc&n=100>"
   ]
  },
  {
   "cell_type": "code",
   "execution_count": null,
   "metadata": {
    "slideshow": {
     "slide_type": "-"
    }
   },
   "outputs": [],
   "source": [
    "import requests\n",
    "\n",
    "page_url = \"https://tw.stock.yahoo.com/d/i/rank.php?t=pri&e=tse&n=100\"\n",
    "r = requests.get(page_url)\n",
    "print(r.text)"
   ]
  },
  {
   "cell_type": "markdown",
   "metadata": {
    "slideshow": {
     "slide_type": "subslide"
    }
   },
   "source": [
    "## 解析資料\n",
    "\n",
    "使用 `BeautifulSoup`"
   ]
  },
  {
   "cell_type": "code",
   "execution_count": null,
   "metadata": {},
   "outputs": [],
   "source": [
    "from bs4 import BeautifulSoup\n",
    "\n",
    "soup = BeautifulSoup(r.text, 'html.parser')"
   ]
  },
  {
   "cell_type": "markdown",
   "metadata": {
    "slideshow": {
     "slide_type": "subslide"
    }
   },
   "source": [
    "## 資料清理\n",
    "\n",
    "- 處理文字\n",
    "- 處理 `list`\n",
    "- 使用 `pandas` 處理表格"
   ]
  },
  {
   "cell_type": "code",
   "execution_count": null,
   "metadata": {
    "slideshow": {
     "slide_type": "subslide"
    }
   },
   "outputs": [],
   "source": [
    "import datetime\n",
    "import requests\n",
    "from bs4 import BeautifulSoup\n",
    "import pandas as pd\n",
    "\n",
    "def get_price_ranks():\n",
    "    current_dt = datetime.datetime.now().strftime(\"%Y-%m-%d %X\")\n",
    "    current_dts = [current_dt for _ in range(200)]\n",
    "    stock_types = [\"tse\", \"otc\"]\n",
    "    price_rank_urls = [\"https://tw.stock.yahoo.com/d/i/rank.php?t=pri&e={}&n=100\".format(st) for st in stock_types]\n",
    "    tickers = []\n",
    "    stocks = []\n",
    "    prices = []\n",
    "    volumes = []\n",
    "    mkt_values = []\n",
    "    ttl_steps = 10*100\n",
    "    each_step = 10\n",
    "    for pr_url in price_rank_urls:\n",
    "        r = requests.get(pr_url)\n",
    "        soup = BeautifulSoup(r.text, 'html.parser')\n",
    "        ticker = [i.text.split()[0] for i in soup.select(\".name a\")]\n",
    "        tickers += ticker\n",
    "        stock = [i.text.split()[1] for i in soup.select(\".name a\")]\n",
    "        stocks += stock\n",
    "        price = [float(soup.find_all(\"td\")[2].find_all(\"td\")[i].text) for i in range(5, 5+ttl_steps, each_step)]\n",
    "        prices += price\n",
    "        volume = [int(soup.find_all(\"td\")[2].find_all(\"td\")[i].text.replace(\",\", \"\")) for i in range(11, 11+ttl_steps, each_step)]\n",
    "        volumes += volume\n",
    "        mkt_value = [float(soup.find_all(\"td\")[2].find_all(\"td\")[i].text)*100000000 for i in range(12, 12+ttl_steps, each_step)]\n",
    "        mkt_values += mkt_value\n",
    "    types = [\"上市\" for _ in range(100)] + [\"上櫃\" for _ in range(100)]\n",
    "    ky_registered = [True if \"KY\" in st else False for st in stocks]\n",
    "    df = pd.DataFrame()\n",
    "    df[\"scrapingTime\"] = current_dts\n",
    "    df[\"type\"] = types\n",
    "    df[\"kyRegistered\"] = ky_registered\n",
    "    df[\"ticker\"] = tickers\n",
    "    df[\"stock\"] = stocks\n",
    "    df[\"price\"] = prices\n",
    "    df[\"volume\"] = volumes\n",
    "    df[\"mktValue\"] = mkt_values\n",
    "    return df"
   ]
  },
  {
   "cell_type": "code",
   "execution_count": null,
   "metadata": {
    "slideshow": {
     "slide_type": "subslide"
    }
   },
   "outputs": [],
   "source": [
    "price_ranks = get_price_ranks()\n",
    "price_ranks.head()"
   ]
  },
  {
   "cell_type": "markdown",
   "metadata": {
    "slideshow": {
     "slide_type": "subslide"
    }
   },
   "source": [
    "## 資料儲存"
   ]
  },
  {
   "cell_type": "markdown",
   "metadata": {
    "slideshow": {
     "slide_type": "subslide"
    }
   },
   "source": [
    "## 增加寫入資料庫的程式碼\n",
    "\n",
    "<https://gist.github.com/yaojenkuo/7e744c1ffb845ceded0ef856d02865fd>"
   ]
  },
  {
   "cell_type": "code",
   "execution_count": null,
   "metadata": {
    "slideshow": {
     "slide_type": "-"
    }
   },
   "outputs": [],
   "source": [
    "import sqlite3\n",
    "import pandas as pd\n",
    "\n",
    "conn = sqlite3.connect('/home/ubuntu/yahoo_stock.db')\n",
    "price_ranks.to_sql(\"price_ranks\", conn, if_exists=\"append\", index=False)"
   ]
  },
  {
   "cell_type": "markdown",
   "metadata": {
    "slideshow": {
     "slide_type": "subslide"
    }
   },
   "source": [
    "## 定期執行\n",
    "\n",
    "- 創建一個 AWS EC2\n",
    "- 安裝 Miniconda\n",
    "- 設定 crontab"
   ]
  },
  {
   "cell_type": "markdown",
   "metadata": {
    "slideshow": {
     "slide_type": "subslide"
    }
   },
   "source": [
    "## 創建一個 AWS EC2\n",
    "\n",
    "![Imgur](https://i.imgur.com/LlIU8nd.png)"
   ]
  },
  {
   "cell_type": "markdown",
   "metadata": {
    "slideshow": {
     "slide_type": "subslide"
    }
   },
   "source": [
    "## 安裝 Miniconda\n",
    "\n",
    "```bash\n",
    "wget https://repo.anaconda.com/miniconda/Miniconda3-latest-Linux-x86_64.sh\n",
    "bash Miniconda3-latest-Linux-x86_64.sh\n",
    "```"
   ]
  },
  {
   "cell_type": "markdown",
   "metadata": {
    "slideshow": {
     "slide_type": "subslide"
    }
   },
   "source": [
    "## 設定 crontab\n",
    "\n",
    "```bash\n",
    "*/30 * * * * /home/ubuntu/miniconda3/bin/python /home/ubuntu/price_rank_scraper.py\n",
    "```"
   ]
  },
  {
   "cell_type": "markdown",
   "metadata": {
    "slideshow": {
     "slide_type": "subslide"
    }
   },
   "source": [
    "## 資料分享"
   ]
  },
  {
   "cell_type": "markdown",
   "metadata": {
    "slideshow": {
     "slide_type": "subslide"
    }
   },
   "source": [
    "## 採用 `flask` + `gunicorn` + `nginx` 架構\n",
    "\n",
    "- `flask`: 網站框架\n",
    "- `gunicorn`: Web Server Gateway Interface\n",
    "- `nginx`: 網站伺服器"
   ]
  },
  {
   "cell_type": "markdown",
   "metadata": {
    "slideshow": {
     "slide_type": "subslide"
    }
   },
   "source": [
    "## 安裝 `flask`、`gunicorn` 與 `nginx`\n",
    "\n",
    "```bash\n",
    "sudo apt-get update\n",
    "sudo apt-get install nginx\n",
    "pip install flask gunicorn\n",
    "```"
   ]
  },
  {
   "cell_type": "markdown",
   "metadata": {
    "slideshow": {
     "slide_type": "subslide"
    }
   },
   "source": [
    "## 利用 `flask` 創建 Web API\n",
    "\n",
    "<https://gist.github.com/yaojenkuo/b968fe2374dd880bffdfaba9fa68935d>"
   ]
  },
  {
   "cell_type": "markdown",
   "metadata": {
    "slideshow": {
     "slide_type": "subslide"
    }
   },
   "source": [
    "## 設定 `nginx`\n",
    "\n",
    "```bash\n",
    "sudo rm /etc/nginx/sites-enabled/default\n",
    "sudo vim /etc/nginx/sites-available/price-rank.com\n",
    "```"
   ]
  },
  {
   "cell_type": "markdown",
   "metadata": {
    "slideshow": {
     "slide_type": "subslide"
    }
   },
   "source": [
    "```\n",
    "# /etc/nginx/sites-available/price-rank.com\n",
    "server {\n",
    "\tlisten 80;\n",
    "\n",
    "\tlocation / {\n",
    "\t\tproxy_pass http://127.0.0.1:8000/;\n",
    "\t}\n",
    "}\n",
    "```"
   ]
  },
  {
   "cell_type": "markdown",
   "metadata": {
    "slideshow": {
     "slide_type": "subslide"
    }
   },
   "source": [
    "```bash\n",
    "sudo ln -s /etc/nginx/sites-available/price-rank.com /etc/nginx/sites-enabled/price-rank.com\n",
    "sudo service nginx restart\n",
    "```"
   ]
  },
  {
   "cell_type": "markdown",
   "metadata": {
    "slideshow": {
     "slide_type": "subslide"
    }
   },
   "source": [
    "## 以 gunicorn 背景模式啟動 flask API\n",
    "\n",
    "```bash\n",
    "gunicorn api:app --daemon\n",
    "```"
   ]
  },
  {
   "cell_type": "markdown",
   "metadata": {
    "slideshow": {
     "slide_type": "subslide"
    }
   },
   "source": [
    "## 前往 EC2 的 Public IP 檢視成果，大功告成"
   ]
  },
  {
   "cell_type": "markdown",
   "metadata": {
    "slideshow": {
     "slide_type": "slide"
    }
   },
   "source": [
    "## 延伸閱讀\n",
    "\n",
    "[Python 與網頁資料擷取](https://medium.com/datainpoint/web-scraping-with-python/home)"
   ]
  }
 ],
 "metadata": {
  "celltoolbar": "Slideshow",
  "kernelspec": {
   "display_name": "selenium",
   "language": "python",
   "name": "selenium"
  },
  "language_info": {
   "codemirror_mode": {
    "name": "ipython",
    "version": 3
   },
   "file_extension": ".py",
   "mimetype": "text/x-python",
   "name": "python",
   "nbconvert_exporter": "python",
   "pygments_lexer": "ipython3",
   "version": "3.7.2"
  }
 },
 "nbformat": 4,
 "nbformat_minor": 2
}
